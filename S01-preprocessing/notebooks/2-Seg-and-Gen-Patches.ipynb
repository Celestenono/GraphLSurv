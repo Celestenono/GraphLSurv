{
 "cells": [
  {
   "cell_type": "markdown",
   "id": "b73c4158",
   "metadata": {},
   "source": [
    "## Segmentation and Generating Patches from each slide\n",
    "\n",
    "### Segmentation tissues\n",
    "\n",
    "Segmentation is operated at a best level for downsampling x64, which is generally at 2 or 3 level.\n",
    "\n",
    "The values of `a_t` and `a_h` for segmentation should be set regrading:\n",
    "- `a_t`: area filter threshold for tissue (positive integer, the minimum size of detected foreground contours to consider, relative to **a reference patch size of 512 x 512 at level 0**, e.g. a value 10 means only detected foreground contours of size greater than 10 512 x 512 sized patches at level 0 will be processed, default: 100)\n",
    "- `a_h`: area filter threshold for holes (positive integer, the minimum size of detected holes/cavities in foreground contours to avoid, once again **relative to 512 x 512 sized patches at level 0**, default: 16)\n",
    "\n",
    "When segmenting the tissues, the value of filter threshold would be automatically fixed in segmentation level.\n",
    "\n",
    "When finished segmentation, all coordinates of foreground contours of tissues and holes were rescaled to level 0.\n",
    "\n",
    "### Generating Patches\n",
    "\n",
    "All patches are generated from the rectangle box bounding the foreground contours of tissues.\n",
    "\n",
    "The most important parameters for patches are `patch_size`, `step_size` and `patch_level`, indicating which size at which level we want to extract. Actually when we run patching, the size and moving step is scaled to level 0 using following code:\n",
    "\n",
    "```python\n",
    "# Patch Size\n",
    "patch_downsample = (int(self.level_downsamples[patch_level][0]), int(self.level_downsamples[patch_level][1]))\n",
    "ref_patch_size = (patch_size * patch_downsample[0], patch_size * patch_downsample[1])\n",
    "# Step Size\n",
    "step_size_x = step_size * patch_downsample[0]\n",
    "step_size_y = step_size * patch_downsample[1]\n",
    "```\n",
    "That is to say, all of generating patches are calculated at level 0. Naturally, the final coordinates restored in h5 files are at level 0. Also, the actual size of patch is equal to `patch_size * level_downsamples[patch_level]` at level 0. Of course, the patches are filtered if they are out of tissue. The checking function is `four_pt`: Easy version of 4pt contour checking function - 1 of 4 points need to be in the contour for test to pass.\n",
    "\n",
    "\n",
    "As clarified above, **in order to get patches at the same resolution, we must make sure that `patch_size * level_downsamples[patch_level]` is always same for all slides**.\n",
    "\n",
    "If the slides are from the same scanning instrument, **it's recommended to set `patch_level` as 1**."
   ]
  },
  {
   "cell_type": "markdown",
   "id": "24ea379f",
   "metadata": {},
   "source": [
    "### Runing code\n",
    "\n",
    "Under CLAM package, run all above using the script:\n",
    "\n",
    "```bash\n",
    "cd ../scripts\n",
    "nohup ./2-Segmentation-and-Generating-Patches.sh > 2-Seg-and-Patch.log 2>&1 &\n",
    "```"
   ]
  }
 ],
 "metadata": {
  "kernelspec": {
   "display_name": "Python 3",
   "language": "python",
   "name": "python3"
  },
  "language_info": {
   "codemirror_mode": {
    "name": "ipython",
    "version": 3
   },
   "file_extension": ".py",
   "mimetype": "text/x-python",
   "name": "python",
   "nbconvert_exporter": "python",
   "pygments_lexer": "ipython3",
   "version": "3.6.8"
  },
  "toc": {
   "base_numbering": 1,
   "nav_menu": {},
   "number_sections": true,
   "sideBar": true,
   "skip_h1_title": false,
   "title_cell": "Table of Contents",
   "title_sidebar": "Contents",
   "toc_cell": false,
   "toc_position": {},
   "toc_section_display": true,
   "toc_window_display": false
  },
  "varInspector": {
   "cols": {
    "lenName": 16,
    "lenType": 16,
    "lenVar": 40
   },
   "kernels_config": {
    "python": {
     "delete_cmd_postfix": "",
     "delete_cmd_prefix": "del ",
     "library": "var_list.py",
     "varRefreshCmd": "print(var_dic_list())"
    },
    "r": {
     "delete_cmd_postfix": ") ",
     "delete_cmd_prefix": "rm(",
     "library": "var_list.r",
     "varRefreshCmd": "cat(var_dic_list()) "
    }
   },
   "types_to_exclude": [
    "module",
    "function",
    "builtin_function_or_method",
    "instance",
    "_Feature"
   ],
   "window_display": false
  }
 },
 "nbformat": 4,
 "nbformat_minor": 5
}
