{
 "cells": [
  {
   "cell_type": "markdown",
   "id": "2dc3ecad",
   "metadata": {},
   "source": [
    "## Overview\n",
    "\n",
    "On step 2, we segmented tissues from each slide, and tiled tissue region of slide to 256x256 images at level 1.\n",
    "\n",
    "We select a pretrained ResNet-50 to extract features from tiles of each slide, outputting a 1024 dimentional vector.\n",
    "\n",
    "**`256 x 256` images** ---ResNet50--->  **`1024` Vectors**\n",
    "\n",
    "Note that image size of resnet input is `224 x 224`"
   ]
  },
  {
   "cell_type": "markdown",
   "id": "841c89bb",
   "metadata": {},
   "source": [
    "## ResNet50 Structure\n",
    "\n",
    "\n",
    "For extracting more low-level features from tiles, the pretrained model we used is a modified ResNet50 that only contains `conv1`, `conv2_x`, `conv3_x`, `conv4_x`, followed by a avgpool layer. Therefore, the data shape is transformed as below.\n",
    "\n",
    "**`(W, H, 3)`** ---Modified ResNet50---> **`(W/16, H/16, 1024)`** ---AdaptiveAvgPool2d(1)---> **`(1024, )`**"
   ]
  },
  {
   "cell_type": "markdown",
   "id": "61958794",
   "metadata": {},
   "source": [
    "## Extracing Features\n",
    "\n",
    "Before feed images to model, ther are some important rounds to notice.\n",
    "\n",
    "### Sampling patches\n",
    "\n",
    "We firstly calculate energy for all patches of each slide, then sample N patches according to the image energy. Options for sampling methods:\n",
    "- Random (random): random select N patches.\n",
    "- Random By Energy (random-be): select top-M patches and then random select N patches.\n",
    "\n",
    "### Determine the patch size\n",
    "\n",
    "Firstly read the attributes of `patch_size` and `patch_level` restored in h5 file output at last step. Then, using the parameters as specified to calculate patch size as followed rules:\n",
    "\n",
    "The parameter of `custom_downsample` is overruled by `target_patch_size`, used to determine the final patch size.\n",
    "\n",
    "```python\n",
    "with h5py.File(self.file_path, \"r\") as f:\n",
    "\tdset = f['coords']\n",
    "\tself.patch_level = f['coords'].attrs['patch_level']\n",
    "\tself.patch_size = f['coords'].attrsatch_size']\n",
    "\tself.length = len(dset)\n",
    "\tif target_patch_size > 0:\n",
    "\t\tself.target_patch_size = (target_patch_size, ) * 2\n",
    "\telif custom_downsample > 1:\n",
    "\t\tself.target_patch_size = (self.patch_size // custom_downsample, ) * 2\n",
    "\telse:\n",
    "\t\tself.target_patch_size = None\n",
    "```\n",
    "\n",
    "### Read tiles from WSI and transform it\n",
    "\n",
    "```python\n",
    "# read tiles\n",
    "img = self.wsi.read_region(coord, self.patch_level, (self.patch_size, self.patch_size)).convert('RGB')\n",
    "\n",
    "# resize to target size\n",
    "if self.target_patch_size is not None:\n",
    "\timg = img.resize(self.target_patch_size)\n",
    "    \n",
    "# transform the image\n",
    "if not custom_transforms:\n",
    "    mean = (0.485, 0.456, 0.406)\n",
    "\tstd = (0.229, 0.224, 0.225)\n",
    "\tself.roi_transforms = transforms.Compose(\n",
    "\t\t\t\t\t[\n",
    "\t\t\t\t\t transforms.ToTensor(),\n",
    "\t\t\t\t\t transforms.Normalize(mean = mean, std = std)\n",
    "\t\t\t\t\t]\n",
    "\t\t\t\t)\n",
    "else:\n",
    "\tself.roi_transforms = custom_transforms\n",
    "\n",
    "img = self.roi_transforms(img).unsqueeze(0)\n",
    "```"
   ]
  },
  {
   "cell_type": "markdown",
   "id": "02dc1ab1",
   "metadata": {},
   "source": [
    "## Runing features extraction\n",
    "\n",
    "runing below commands to extract features.\n",
    "\n",
    "```bash\n",
    "cd ../scripts\n",
    "# calculate energy of images firstly\n",
    "nohup ./3-Calculate-Patches-Energy.sh > 3-Calculate-Energy.log 2>&1 &\n",
    "# extract features\n",
    "nohup ./4-Extracting-Patches-Features.sh > 4-Extract-Feat.log 2>&1 &\n",
    "```"
   ]
  }
 ],
 "metadata": {
  "kernelspec": {
   "display_name": "Python 3",
   "language": "python",
   "name": "python3"
  },
  "language_info": {
   "codemirror_mode": {
    "name": "ipython",
    "version": 3
   },
   "file_extension": ".py",
   "mimetype": "text/x-python",
   "name": "python",
   "nbconvert_exporter": "python",
   "pygments_lexer": "ipython3",
   "version": "3.6.8"
  },
  "toc": {
   "base_numbering": 1,
   "nav_menu": {},
   "number_sections": true,
   "sideBar": true,
   "skip_h1_title": false,
   "title_cell": "Table of Contents",
   "title_sidebar": "Contents",
   "toc_cell": false,
   "toc_position": {
    "height": "calc(100% - 180px)",
    "left": "10px",
    "top": "150px",
    "width": "165px"
   },
   "toc_section_display": true,
   "toc_window_display": true
  },
  "varInspector": {
   "cols": {
    "lenName": 16,
    "lenType": 16,
    "lenVar": 40
   },
   "kernels_config": {
    "python": {
     "delete_cmd_postfix": "",
     "delete_cmd_prefix": "del ",
     "library": "var_list.py",
     "varRefreshCmd": "print(var_dic_list())"
    },
    "r": {
     "delete_cmd_postfix": ") ",
     "delete_cmd_prefix": "rm(",
     "library": "var_list.r",
     "varRefreshCmd": "cat(var_dic_list()) "
    }
   },
   "types_to_exclude": [
    "module",
    "function",
    "builtin_function_or_method",
    "instance",
    "_Feature"
   ],
   "window_display": false
  }
 },
 "nbformat": 4,
 "nbformat_minor": 5
}
