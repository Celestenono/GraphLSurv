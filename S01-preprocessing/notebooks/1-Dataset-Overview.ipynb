{
 "cells": [
  {
   "cell_type": "code",
   "execution_count": 1,
   "id": "a2897a78",
   "metadata": {},
   "outputs": [],
   "source": [
    "import os\n",
    "\n",
    "# path of raw slide images\n",
    "IMG_DIR = '/NAS01/Dataset/NLST/PathologySlide/raw'\n",
    "# path of related tables\n",
    "TBS_DIR = '/NAS01/Dataset/NLST/Pathology'"
   ]
  },
  {
   "cell_type": "markdown",
   "id": "56d7a12a",
   "metadata": {},
   "source": [
    "## Original Pathology Images\n",
    "\n",
    "Firstly, we inspect the original pathology images from `IMG_DIR`\n",
    "- Patients count 449\n",
    "- Slides count 1225"
   ]
  },
  {
   "cell_type": "code",
   "execution_count": 2,
   "id": "03384ffe",
   "metadata": {},
   "outputs": [
    {
     "name": "stdout",
     "output_type": "stream",
     "text": [
      "#Patient: 449\n",
      "#Slide: 1225\n"
     ]
    }
   ],
   "source": [
    "pids = dict()\n",
    "for d in os.listdir(IMG_DIR):\n",
    "    dir_pid = os.path.join(IMG_DIR, d)\n",
    "    if os.path.isdir(dir_pid):\n",
    "        imgs = []\n",
    "        for img_name in os.listdir(dir_pid):\n",
    "            img_path = os.path.join(dir_pid, img_name)\n",
    "            if not os.path.isfile(img_path):\n",
    "                continue\n",
    "            imgs.append(img_name)\n",
    "\n",
    "        pids[d] = imgs\n",
    "\n",
    "print(\"#Patient: %d\" % len([_ for _ in pids.keys()]))\n",
    "print(\"#Slide: %d\" % sum([len(_) for _ in pids.values()]))"
   ]
  },
  {
   "cell_type": "markdown",
   "id": "8adf3ba3",
   "metadata": {},
   "source": [
    "check if there are SVS files having same name"
   ]
  },
  {
   "cell_type": "code",
   "execution_count": 3,
   "id": "43b14358",
   "metadata": {},
   "outputs": [
    {
     "name": "stdout",
     "output_type": "stream",
     "text": [
      "#Unique Slide Name: 1225\n"
     ]
    }
   ],
   "source": [
    "img_names = []\n",
    "for v in pids.values():\n",
    "    img_names += v\n",
    "\n",
    "print(\"#Unique Slide Name: %d\" % len(set(img_names)))"
   ]
  },
  {
   "cell_type": "markdown",
   "id": "3c50162a",
   "metadata": {},
   "source": [
    "## Table of Tissue Block\n",
    "\n",
    "We check whether the informations read from `IMG_DIR` is consistent with table of pathology tissue blocks.\n",
    "\n",
    "The table contains information as listed below.\n",
    "- Tumor_id\n",
    "- tissue_block_id\n",
    "- pid\n",
    "- pathology images filenames"
   ]
  },
  {
   "cell_type": "code",
   "execution_count": 4,
   "id": "f518e1f4",
   "metadata": {},
   "outputs": [
    {
     "data": {
      "text/html": [
       "<div>\n",
       "<style scoped>\n",
       "    .dataframe tbody tr th:only-of-type {\n",
       "        vertical-align: middle;\n",
       "    }\n",
       "\n",
       "    .dataframe tbody tr th {\n",
       "        vertical-align: top;\n",
       "    }\n",
       "\n",
       "    .dataframe thead th {\n",
       "        text-align: right;\n",
       "    }\n",
       "</style>\n",
       "<table border=\"1\" class=\"dataframe\">\n",
       "  <thead>\n",
       "    <tr style=\"text-align: right;\">\n",
       "      <th></th>\n",
       "      <th>tumor_id</th>\n",
       "      <th>tissue_block_id</th>\n",
       "      <th>block_annotated</th>\n",
       "      <th>block_color1</th>\n",
       "      <th>block_color2</th>\n",
       "      <th>block_color3</th>\n",
       "      <th>block_color4</th>\n",
       "      <th>block_color5</th>\n",
       "      <th>block_worst_class</th>\n",
       "      <th>block_worst_grade</th>\n",
       "      <th>pid</th>\n",
       "      <th>image_filesize1</th>\n",
       "      <th>image_filesize2</th>\n",
       "      <th>image_filename1</th>\n",
       "      <th>image_filename2</th>\n",
       "    </tr>\n",
       "  </thead>\n",
       "  <tbody>\n",
       "    <tr>\n",
       "      <th>0</th>\n",
       "      <td>AA00116</td>\n",
       "      <td>AA00116 0001</td>\n",
       "      <td>1</td>\n",
       "      <td>BLACK</td>\n",
       "      <td>BLUE</td>\n",
       "      <td>PURPLE</td>\n",
       "      <td>RED</td>\n",
       "      <td>NaN</td>\n",
       "      <td>1.0</td>\n",
       "      <td>4.0</td>\n",
       "      <td>100012</td>\n",
       "      <td>836145827</td>\n",
       "      <td>NaN</td>\n",
       "      <td>11445.svs</td>\n",
       "      <td>NaN</td>\n",
       "    </tr>\n",
       "    <tr>\n",
       "      <th>1</th>\n",
       "      <td>AA00116</td>\n",
       "      <td>AA00116 0002</td>\n",
       "      <td>1</td>\n",
       "      <td>BLACK</td>\n",
       "      <td>BLUE</td>\n",
       "      <td>RED</td>\n",
       "      <td>YELLOW</td>\n",
       "      <td>NaN</td>\n",
       "      <td>1.0</td>\n",
       "      <td>4.0</td>\n",
       "      <td>100012</td>\n",
       "      <td>579406059</td>\n",
       "      <td>NaN</td>\n",
       "      <td>11446.svs</td>\n",
       "      <td>NaN</td>\n",
       "    </tr>\n",
       "    <tr>\n",
       "      <th>2</th>\n",
       "      <td>AA00116</td>\n",
       "      <td>AA00116 0003</td>\n",
       "      <td>1</td>\n",
       "      <td>GREEN</td>\n",
       "      <td>PURPLE</td>\n",
       "      <td>NaN</td>\n",
       "      <td>NaN</td>\n",
       "      <td>NaN</td>\n",
       "      <td>6.0</td>\n",
       "      <td>4.0</td>\n",
       "      <td>100012</td>\n",
       "      <td>759314583</td>\n",
       "      <td>NaN</td>\n",
       "      <td>11447.svs</td>\n",
       "      <td>NaN</td>\n",
       "    </tr>\n",
       "    <tr>\n",
       "      <th>3</th>\n",
       "      <td>AA00343</td>\n",
       "      <td>AA00343 0001</td>\n",
       "      <td>1</td>\n",
       "      <td>BLUE</td>\n",
       "      <td>BROWN</td>\n",
       "      <td>PURPLE</td>\n",
       "      <td>NaN</td>\n",
       "      <td>NaN</td>\n",
       "      <td>2.0</td>\n",
       "      <td>4.0</td>\n",
       "      <td>100147</td>\n",
       "      <td>230878457</td>\n",
       "      <td>NaN</td>\n",
       "      <td>NLSI0000526.svs</td>\n",
       "      <td>NaN</td>\n",
       "    </tr>\n",
       "    <tr>\n",
       "      <th>4</th>\n",
       "      <td>AA00681</td>\n",
       "      <td>AA00681 0001</td>\n",
       "      <td>1</td>\n",
       "      <td>BLACK</td>\n",
       "      <td>NaN</td>\n",
       "      <td>NaN</td>\n",
       "      <td>NaN</td>\n",
       "      <td>NaN</td>\n",
       "      <td>1.0</td>\n",
       "      <td>4.0</td>\n",
       "      <td>100158</td>\n",
       "      <td>468213351</td>\n",
       "      <td>NaN</td>\n",
       "      <td>9485.svs</td>\n",
       "      <td>NaN</td>\n",
       "    </tr>\n",
       "  </tbody>\n",
       "</table>\n",
       "</div>"
      ],
      "text/plain": [
       "  tumor_id tissue_block_id  block_annotated block_color1 block_color2  \\\n",
       "0  AA00116    AA00116 0001                1        BLACK         BLUE   \n",
       "1  AA00116    AA00116 0002                1        BLACK         BLUE   \n",
       "2  AA00116    AA00116 0003                1        GREEN       PURPLE   \n",
       "3  AA00343    AA00343 0001                1         BLUE        BROWN   \n",
       "4  AA00681    AA00681 0001                1        BLACK          NaN   \n",
       "\n",
       "  block_color3 block_color4 block_color5  block_worst_class  \\\n",
       "0       PURPLE          RED          NaN                1.0   \n",
       "1          RED       YELLOW          NaN                1.0   \n",
       "2          NaN          NaN          NaN                6.0   \n",
       "3       PURPLE          NaN          NaN                2.0   \n",
       "4          NaN          NaN          NaN                1.0   \n",
       "\n",
       "   block_worst_grade     pid image_filesize1  image_filesize2  \\\n",
       "0                4.0  100012       836145827              NaN   \n",
       "1                4.0  100012       579406059              NaN   \n",
       "2                4.0  100012       759314583              NaN   \n",
       "3                4.0  100147       230878457              NaN   \n",
       "4                4.0  100158       468213351              NaN   \n",
       "\n",
       "   image_filename1 image_filename2  \n",
       "0        11445.svs             NaN  \n",
       "1        11446.svs             NaN  \n",
       "2        11447.svs             NaN  \n",
       "3  NLSI0000526.svs             NaN  \n",
       "4         9485.svs             NaN  "
      ]
     },
     "execution_count": 4,
     "metadata": {},
     "output_type": "execute_result"
    }
   ],
   "source": [
    "import pandas as pd\n",
    "\n",
    "path = os.path.join(TBS_DIR, \"nlst_path_tissue_block_20180727.csv\")\n",
    "tissue_blk = pd.read_csv(path)\n",
    "\n",
    "tissue_blk.head()"
   ]
  },
  {
   "cell_type": "code",
   "execution_count": 5,
   "id": "be1a1d43",
   "metadata": {},
   "outputs": [
    {
     "name": "stdout",
     "output_type": "stream",
     "text": [
      "Read 449 patients\n"
     ]
    }
   ],
   "source": [
    "tissue_blk_by_pid = tissue_blk.groupby(by='pid').groups\n",
    "print(\"Read %d patients\" % len(tissue_blk_by_pid))\n",
    "\n",
    "for pid in pids:\n",
    "    pid = int(pid)\n",
    "    if pid not in tissue_blk_by_pid:\n",
    "        print(\"Not found patient %s in Tissue_Block tables\" % pid)\n",
    "    \n",
    "    tissues = tissue_blk.loc[tissue_blk_by_pid[pid], ['image_filename1', 'image_filename2']]\n",
    "    tissues_imgs = list(tissues['image_filename1']) + list(tissues['image_filename2'])\n",
    "    tissues_imgs = [_ for _ in tissues_imgs if not pd.isnull(_)]\n",
    "    \n",
    "    assert set(tissues_imgs) == set(pids[str(pid)])"
   ]
  },
  {
   "cell_type": "markdown",
   "id": "b65fc3fa",
   "metadata": {},
   "source": [
    "Generate the table mapping pathology image id to patient id, which is saved in `TBS_DIR/nlst_path_path2pat.csv`"
   ]
  },
  {
   "cell_type": "code",
   "execution_count": 6,
   "id": "07c12b38",
   "metadata": {},
   "outputs": [],
   "source": [
    "list_img_id = []\n",
    "list_pid = []\n",
    "for p in pids:\n",
    "    img_id = [os.path.splitext(x)[0] for x in pids[p]]\n",
    "    list_img_id += img_id\n",
    "    list_pid += [p] * len(img_id)\n",
    "\n",
    "map_path2pat = pd.DataFrame({'pathology_id': list_img_id, 'patient_id': list_pid}, columns=['pathology_id', 'patient_id'])\n",
    "\n",
    "path = os.path.join(TBS_DIR, \"nlst_path_path2pat.csv\")\n",
    "map_path2pat.to_csv(path, index=False)"
   ]
  },
  {
   "cell_type": "markdown",
   "id": "cdae3ba7",
   "metadata": {},
   "source": [
    "## Table of Patients\n",
    "\n",
    "We need to know the table of patients from NLST, and collect the informations (death status, including the time of death) that would be used in survival analysis.\n",
    "\n",
    "For death analysis, we can use\n",
    "- `candx_days`: Days from randomization to first diagnosis of lung cancer\n",
    "- `fup_days` for non-death: Days from randomization to date last known alive\n",
    "- `death_days` for death\n",
    "- `deathstat`: Death status"
   ]
  },
  {
   "cell_type": "code",
   "execution_count": 7,
   "id": "e47e5def",
   "metadata": {},
   "outputs": [
    {
     "data": {
      "text/html": [
       "<div>\n",
       "<style scoped>\n",
       "    .dataframe tbody tr th:only-of-type {\n",
       "        vertical-align: middle;\n",
       "    }\n",
       "\n",
       "    .dataframe tbody tr th {\n",
       "        vertical-align: top;\n",
       "    }\n",
       "\n",
       "    .dataframe thead th {\n",
       "        text-align: right;\n",
       "    }\n",
       "</style>\n",
       "<table border=\"1\" class=\"dataframe\">\n",
       "  <thead>\n",
       "    <tr style=\"text-align: right;\">\n",
       "      <th></th>\n",
       "      <th>cen</th>\n",
       "      <th>dataset_version</th>\n",
       "      <th>elig</th>\n",
       "      <th>ineligible</th>\n",
       "      <th>pid</th>\n",
       "      <th>rndgroup</th>\n",
       "      <th>study</th>\n",
       "      <th>age</th>\n",
       "      <th>educat</th>\n",
       "      <th>ethnic</th>\n",
       "      <th>...</th>\n",
       "      <th>clinical_m_7thed</th>\n",
       "      <th>path_t_7thed</th>\n",
       "      <th>path_n_7thed</th>\n",
       "      <th>path_m_7thed</th>\n",
       "      <th>clinical_t</th>\n",
       "      <th>path_t</th>\n",
       "      <th>clinical_n</th>\n",
       "      <th>path_n</th>\n",
       "      <th>clinical_m</th>\n",
       "      <th>path_m</th>\n",
       "    </tr>\n",
       "  </thead>\n",
       "  <tbody>\n",
       "    <tr>\n",
       "      <th>0</th>\n",
       "      <td>AV</td>\n",
       "      <td>2011.02.03/04.07.20</td>\n",
       "      <td>2</td>\n",
       "      <td>NaN</td>\n",
       "      <td>100012</td>\n",
       "      <td>1</td>\n",
       "      <td>1</td>\n",
       "      <td>61</td>\n",
       "      <td>7</td>\n",
       "      <td>2</td>\n",
       "      <td>...</td>\n",
       "      <td>0.0</td>\n",
       "      <td>110.0</td>\n",
       "      <td>0.0</td>\n",
       "      <td>0.0</td>\n",
       "      <td>100.0</td>\n",
       "      <td>100.0</td>\n",
       "      <td>0.0</td>\n",
       "      <td>0.0</td>\n",
       "      <td>0.0</td>\n",
       "      <td>0.0</td>\n",
       "    </tr>\n",
       "    <tr>\n",
       "      <th>1</th>\n",
       "      <td>AR</td>\n",
       "      <td>2011.02.03/04.07.20</td>\n",
       "      <td>2</td>\n",
       "      <td>NaN</td>\n",
       "      <td>100147</td>\n",
       "      <td>1</td>\n",
       "      <td>1</td>\n",
       "      <td>68</td>\n",
       "      <td>1</td>\n",
       "      <td>2</td>\n",
       "      <td>...</td>\n",
       "      <td>0.0</td>\n",
       "      <td>120.0</td>\n",
       "      <td>0.0</td>\n",
       "      <td>0.0</td>\n",
       "      <td>100.0</td>\n",
       "      <td>100.0</td>\n",
       "      <td>0.0</td>\n",
       "      <td>0.0</td>\n",
       "      <td>0.0</td>\n",
       "      <td>0.0</td>\n",
       "    </tr>\n",
       "    <tr>\n",
       "      <th>2</th>\n",
       "      <td>AO</td>\n",
       "      <td>2011.02.03/04.07.20</td>\n",
       "      <td>2</td>\n",
       "      <td>NaN</td>\n",
       "      <td>100158</td>\n",
       "      <td>1</td>\n",
       "      <td>1</td>\n",
       "      <td>65</td>\n",
       "      <td>5</td>\n",
       "      <td>2</td>\n",
       "      <td>...</td>\n",
       "      <td>0.0</td>\n",
       "      <td>110.0</td>\n",
       "      <td>0.0</td>\n",
       "      <td>0.0</td>\n",
       "      <td>100.0</td>\n",
       "      <td>100.0</td>\n",
       "      <td>0.0</td>\n",
       "      <td>0.0</td>\n",
       "      <td>0.0</td>\n",
       "      <td>0.0</td>\n",
       "    </tr>\n",
       "    <tr>\n",
       "      <th>3</th>\n",
       "      <td>BD</td>\n",
       "      <td>2011.02.03/04.07.20</td>\n",
       "      <td>2</td>\n",
       "      <td>NaN</td>\n",
       "      <td>100242</td>\n",
       "      <td>1</td>\n",
       "      <td>1</td>\n",
       "      <td>60</td>\n",
       "      <td>5</td>\n",
       "      <td>2</td>\n",
       "      <td>...</td>\n",
       "      <td>0.0</td>\n",
       "      <td>110.0</td>\n",
       "      <td>999.0</td>\n",
       "      <td>0.0</td>\n",
       "      <td>100.0</td>\n",
       "      <td>100.0</td>\n",
       "      <td>0.0</td>\n",
       "      <td>999.0</td>\n",
       "      <td>0.0</td>\n",
       "      <td>0.0</td>\n",
       "    </tr>\n",
       "    <tr>\n",
       "      <th>4</th>\n",
       "      <td>BC</td>\n",
       "      <td>2011.02.03/04.07.20</td>\n",
       "      <td>2</td>\n",
       "      <td>NaN</td>\n",
       "      <td>100280</td>\n",
       "      <td>1</td>\n",
       "      <td>1</td>\n",
       "      <td>60</td>\n",
       "      <td>6</td>\n",
       "      <td>2</td>\n",
       "      <td>...</td>\n",
       "      <td>0.0</td>\n",
       "      <td>110.0</td>\n",
       "      <td>0.0</td>\n",
       "      <td>0.0</td>\n",
       "      <td>100.0</td>\n",
       "      <td>100.0</td>\n",
       "      <td>0.0</td>\n",
       "      <td>0.0</td>\n",
       "      <td>0.0</td>\n",
       "      <td>0.0</td>\n",
       "    </tr>\n",
       "  </tbody>\n",
       "</table>\n",
       "<p>5 rows × 357 columns</p>\n",
       "</div>"
      ],
      "text/plain": [
       "  cen      dataset_version  elig  ineligible     pid  rndgroup  study  age  \\\n",
       "0  AV  2011.02.03/04.07.20     2         NaN  100012         1      1   61   \n",
       "1  AR  2011.02.03/04.07.20     2         NaN  100147         1      1   68   \n",
       "2  AO  2011.02.03/04.07.20     2         NaN  100158         1      1   65   \n",
       "3  BD  2011.02.03/04.07.20     2         NaN  100242         1      1   60   \n",
       "4  BC  2011.02.03/04.07.20     2         NaN  100280         1      1   60   \n",
       "\n",
       "   educat  ethnic  ...  clinical_m_7thed  path_t_7thed  path_n_7thed  \\\n",
       "0       7       2  ...               0.0         110.0           0.0   \n",
       "1       1       2  ...               0.0         120.0           0.0   \n",
       "2       5       2  ...               0.0         110.0           0.0   \n",
       "3       5       2  ...               0.0         110.0         999.0   \n",
       "4       6       2  ...               0.0         110.0           0.0   \n",
       "\n",
       "   path_m_7thed  clinical_t  path_t  clinical_n  path_n  clinical_m  path_m  \n",
       "0           0.0       100.0   100.0         0.0     0.0         0.0     0.0  \n",
       "1           0.0       100.0   100.0         0.0     0.0         0.0     0.0  \n",
       "2           0.0       100.0   100.0         0.0     0.0         0.0     0.0  \n",
       "3           0.0       100.0   100.0         0.0   999.0         0.0     0.0  \n",
       "4           0.0       100.0   100.0         0.0     0.0         0.0     0.0  \n",
       "\n",
       "[5 rows x 357 columns]"
      ]
     },
     "execution_count": 7,
     "metadata": {},
     "output_type": "execute_result"
    }
   ],
   "source": [
    "path = os.path.join(TBS_DIR, \"nlst_path_prsn_20180727.csv\")\n",
    "prsn = pd.read_csv(path)\n",
    "\n",
    "prsn.head()"
   ]
  },
  {
   "cell_type": "code",
   "execution_count": 8,
   "id": "4101f461",
   "metadata": {},
   "outputs": [],
   "source": [
    "df_prsn = prsn.loc[:, ['pid', 'candx_days', 'fup_days', 'death_days', 'deathstat']]\n",
    "\n",
    "list_pid = []\n",
    "list_event = []\n",
    "list_time = []\n",
    "for i in df_prsn.index:\n",
    "    list_pid.append(str(df_prsn.loc[i, 'pid']))\n",
    "    if df_prsn.loc[i, 'deathstat'] == 1 or df_prsn.loc[i, 'deathstat'] == 2:\n",
    "        assert df_prsn.loc[i, 'death_days'] == df_prsn.loc[i, 'fup_days']\n",
    "        list_event.append(1)\n",
    "        list_time.append(df_prsn.loc[i, 'death_days'] - df_prsn.loc[i, 'candx_days'])\n",
    "    else:\n",
    "        list_event.append(0)\n",
    "        list_time.append(df_prsn.loc[i, 'fup_days'] - df_prsn.loc[i, 'candx_days'])"
   ]
  },
  {
   "cell_type": "markdown",
   "id": "1d10c79d",
   "metadata": {},
   "source": [
    "Save dataframe of pid, event, time to path of `TBS_DIR/nlst_path_patients.csv`"
   ]
  },
  {
   "cell_type": "code",
   "execution_count": 9,
   "id": "57fb7c92",
   "metadata": {},
   "outputs": [],
   "source": [
    "patients = pd.DataFrame({'patient_id': list_pid, 'e': list_event, 't': list_time}, columns=['patient_id', 'e', 't'])\n",
    "path = os.path.join(TBS_DIR, \"nlst_path_patients.csv\")\n",
    "patients.to_csv(path, index=False)"
   ]
  },
  {
   "cell_type": "markdown",
   "id": "4870d4cd",
   "metadata": {},
   "source": [
    "## Patients Overall Survival state"
   ]
  },
  {
   "cell_type": "code",
   "execution_count": 4,
   "id": "5e2746b3",
   "metadata": {},
   "outputs": [
    {
     "name": "stdout",
     "output_type": "stream",
     "text": [
      "# Rows 449\n",
      "# Patients 449\n",
      "# Event 161\n",
      "Event ratio 0.3585746102449889\n"
     ]
    }
   ],
   "source": [
    "import pandas as pd\n",
    "import os\n",
    "\n",
    "path = os.path.join('/NAS01/Dataset/NLST/Pathology', \"nlst_path_patients.csv\")\n",
    "patients = pd.read_csv(path)\n",
    "\n",
    "print(\"# Rows\", len(patients))\n",
    "print(\"# Patients\", len(patients['patient_id'].unique()))\n",
    "print(\"# Event\", patients['e'].sum())\n",
    "print(\"Event ratio\", patients['e'].sum() / len(patients))"
   ]
  },
  {
   "cell_type": "code",
   "execution_count": 5,
   "id": "2ad8d891",
   "metadata": {},
   "outputs": [
    {
     "data": {
      "image/png": "[encoded data removed]",
      "text/plain": [
       "<Figure size 576x432 with 2 Axes>"
      ]
     },
     "metadata": {
      "needs_background": "light"
     },
     "output_type": "display_data"
    }
   ],
   "source": [
    "import lifelines as lf\n",
    "import matplotlib.pyplot as plt\n",
    "from lifelines.plotting import add_at_risk_counts\n",
    "\n",
    "fig, ax = plt.subplots(figsize=(8, 6))\n",
    "\n",
    "kmfh = lf.KaplanMeierFitter()\n",
    "kmfh.fit(patients['t'], event_observed=patients['e'], label='NLST-Pathology')\n",
    "kmfh.survival_function_.plot(ax=ax)\n",
    "\n",
    "ax = add_at_risk_counts(kmfh, ax=ax, fig=fig, rows_to_show=[\n",
    "                        'At risk'], fontsize=12)\n",
    "ax.set_ylim(0, 1.01)\n",
    "ax.set_xlim(0, 2800)\n",
    "ax.set_xlabel(\"Observed Time (Days)\")\n",
    "ax.set_ylabel(\"Survival Probalities\")\n",
    "\n",
    "plt.show()"
   ]
  },
  {
   "cell_type": "code",
   "execution_count": null,
   "id": "e1b30eb5",
   "metadata": {},
   "outputs": [],
   "source": []
  }
 ],
 "metadata": {
  "kernelspec": {
   "display_name": "Python 3",
   "language": "python",
   "name": "python3"
  },
  "language_info": {
   "codemirror_mode": {
    "name": "ipython",
    "version": 3
   },
   "file_extension": ".py",
   "mimetype": "text/x-python",
   "name": "python",
   "nbconvert_exporter": "python",
   "pygments_lexer": "ipython3",
   "version": "3.6.8"
  },
  "toc": {
   "base_numbering": 1,
   "nav_menu": {},
   "number_sections": true,
   "sideBar": true,
   "skip_h1_title": false,
   "title_cell": "Table of Contents",
   "title_sidebar": "Contents",
   "toc_cell": false,
   "toc_position": {
    "height": "calc(100% - 180px)",
    "left": "10px",
    "top": "150px",
    "width": "256px"
   },
   "toc_section_display": true,
   "toc_window_display": false
  },
  "varInspector": {
   "cols": {
    "lenName": 16,
    "lenType": 16,
    "lenVar": 40
   },
   "kernels_config": {
    "python": {
     "delete_cmd_postfix": "",
     "delete_cmd_prefix": "del ",
     "library": "var_list.py",
     "varRefreshCmd": "print(var_dic_list())"
    },
    "r": {
     "delete_cmd_postfix": ") ",
     "delete_cmd_prefix": "rm(",
     "library": "var_list.r",
     "varRefreshCmd": "cat(var_dic_list()) "
    }
   },
   "types_to_exclude": [
    "module",
    "function",
    "builtin_function_or_method",
    "instance",
    "_Feature"
   ],
   "window_display": false
  }
 },
 "nbformat": 4,
 "nbformat_minor": 5
}
