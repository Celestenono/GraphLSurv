{
 "cells": [
  {
   "cell_type": "markdown",
   "id": "6a7405b2",
   "metadata": {},
   "source": [
    "## Overview from Slide-level\n",
    "\n",
    "### tiles-l1-s256 & feats-l1-s256-mrandom_be-n1000\n",
    "\n",
    "At step 2, we segmented tissues from WSIs, and generated 256x256 patches at level 1 (which is 1024x1024 at level 0). \n",
    "\n",
    "At step 4, we sampled 1000 tiles from each WSI using `random_be` method.\n",
    "\n",
    "Below gives the summary of it.\n",
    "\n",
    "| Statistics  | Count       |\n",
    "| :-----------: | :-----------: |\n",
    "| Slides         | 1225       |\n",
    "| Patches        | 3599783        |\n",
    "| Selected Tiles | 1145836        |\n",
    "| Avg. Patches per Slide|2938.598 |\n",
    "| Avg. Tiles per Slide| 935.376 |"
   ]
  },
  {
   "cell_type": "code",
   "execution_count": 1,
   "id": "716f2fbb",
   "metadata": {
    "ExecuteTime": {
     "end_time": "2021-06-22T08:18:04.365421Z",
     "start_time": "2021-06-22T08:18:02.000392Z"
    }
   },
   "outputs": [],
   "source": [
    "import os\n",
    "import h5py\n",
    "\n",
    "PATH_PATCH = '/NAS01/Dataset/NLST/PathologySlide/tiles-l1-s256/patches'\n",
    "PATH_PAT = '/NAS01/Dataset/NLST/Pathology/nlst_path_path2pat.csv'\n",
    "N = 1000\n",
    "\n",
    "def sampling_num(n, vals, sample_size):\n",
    "    assert n == len(vals)\n",
    "    filtered_vals = [v for v in vals if v > 0]\n",
    "    \n",
    "    return min(sample_size, len(filtered_vals))\n",
    "\n",
    "slide_ids = []\n",
    "slide_num_patch = []\n",
    "slide_num_select = []\n",
    "for slide in os.listdir(PATH_PATCH):\n",
    "    slide_h5_path = os.path.join(PATH_PATCH, slide)\n",
    "    if not os.path.isfile(slide_h5_path):\n",
    "        continue\n",
    "        \n",
    "    slide_ids.append(slide.split('.h5')[0])\n",
    "    with h5py.File(slide_h5_path, 'r') as f:\n",
    "        coords = f['coords']\n",
    "        values = f['energy']\n",
    "        n_coords = len(coords)\n",
    "        slide_num_patch.append(n_coords)\n",
    "        slide_num_select.append(sampling_num(n_coords, values, N))"
   ]
  },
  {
   "cell_type": "code",
   "execution_count": 2,
   "id": "5e39a3f2",
   "metadata": {
    "ExecuteTime": {
     "end_time": "2021-06-22T08:18:06.503125Z",
     "start_time": "2021-06-22T08:18:06.499134Z"
    }
   },
   "outputs": [
    {
     "name": "stdout",
     "output_type": "stream",
     "text": [
      "From slide-level:\n",
      "\t#Slides :  1225\n",
      "\t#Patches:  3599783\n",
      "\t#Tiles  :  1145836\n",
      "\n",
      "\n",
      "\tAvg. Patches/Slide: 2938.598\n",
      "\tAvg. Tiles/Slide  : 935.376\n"
     ]
    }
   ],
   "source": [
    "print(\"From slide-level:\")\n",
    "print(\"\\t#Slides : \", len(slide_ids))\n",
    "print(\"\\t#Patches: \", sum(slide_num_patch))\n",
    "print(\"\\t#Tiles  : \", sum(slide_num_select))\n",
    "print('\\n')\n",
    "print(\"\\tAvg. Patches/Slide: %.3f\" % (sum(slide_num_patch) / len(slide_ids)))\n",
    "print(\"\\tAvg. Tiles/Slide  : %.3f\" % (sum(slide_num_select) / len(slide_ids)))"
   ]
  },
  {
   "cell_type": "markdown",
   "id": "834c293e",
   "metadata": {},
   "source": [
    "Read data of mapping from `slide_id` to `patient_id`"
   ]
  },
  {
   "cell_type": "code",
   "execution_count": 4,
   "id": "047d7e30",
   "metadata": {},
   "outputs": [],
   "source": [
    "import pandas as pd\n",
    "\n",
    "ref = pd.read_csv(PATH_PAT)\n",
    "patient_ids = [list(ref.loc[ref['pathology_id'] == sid, 'patient_id'])[0] for sid in slide_ids]"
   ]
  },
  {
   "cell_type": "markdown",
   "id": "34a8297d",
   "metadata": {},
   "source": [
    "Inspect slides whose **number of selected tiles is less than 100**"
   ]
  },
  {
   "cell_type": "code",
   "execution_count": 5,
   "id": "2d2dbd18",
   "metadata": {
    "ExecuteTime": {
     "end_time": "2021-06-22T08:30:47.084996Z",
     "start_time": "2021-06-22T08:30:47.077635Z"
    }
   },
   "outputs": [
    {
     "name": "stdout",
     "output_type": "stream",
     "text": [
      "116477 10119 71\n",
      "133530 NLSI0000122 71\n",
      "118035 10496 34\n",
      "113598 9775 29\n",
      "101275 11302 95\n"
     ]
    }
   ],
   "source": [
    "th = 100\n",
    "for i, slide in enumerate(slide_ids):\n",
    "    if slide_num_patch[i] < th:\n",
    "        print(patient_ids[i], slide, slide_num_patch[i])"
   ]
  },
  {
   "cell_type": "code",
   "execution_count": 6,
   "id": "754b27a3",
   "metadata": {},
   "outputs": [
    {
     "name": "stdout",
     "output_type": "stream",
     "text": [
      "From slide-level:\n",
      "\tNumber of selected tiles < 1000\n",
      "\t\tRatio = 18.53%, #Count = 227\n",
      "\tNumber of selected tiles = 1000\n",
      "\t\tRatio = 81.47%, #Count = 998\n"
     ]
    }
   ],
   "source": [
    "slide_num_select_less_than_N = [i for i in slide_num_select if i < N]\n",
    "slide_num_select_equal_N = [i for i in slide_num_select if i >= N]\n",
    "\n",
    "print(\"From slide-level:\")\n",
    "print(\"\\tNumber of selected tiles < %d\" % N)\n",
    "print(\"\\t\\tRatio = %.2f%%, #Count = %d\" % (100.0*len(slide_num_select_less_than_N)/len(slide_ids), len(slide_num_select_less_than_N)))\n",
    "\n",
    "print(\"\\tNumber of selected tiles = %d\" % N)\n",
    "print(\"\\t\\tRatio = %.2f%%, #Count = %d\" % (100.0*len(slide_num_select_equal_N)/len(slide_ids), len(slide_num_select_equal_N)))"
   ]
  },
  {
   "cell_type": "markdown",
   "id": "38460d25",
   "metadata": {},
   "source": [
    "### Plotting the distribution of the number of patches and tiles"
   ]
  },
  {
   "cell_type": "code",
   "execution_count": 7,
   "id": "40b0eb65",
   "metadata": {
    "ExecuteTime": {
     "end_time": "2021-06-22T08:23:19.950238Z",
     "start_time": "2021-06-22T08:23:19.610173Z"
    }
   },
   "outputs": [
    {
     "data": {
      "text/plain": [
       "<AxesSubplot:ylabel='Count'>"
      ]
     },
     "execution_count": 7,
     "metadata": {},
     "output_type": "execute_result"
    },
    {
     "data": {
      "image/png": "[encoded data removed]",
      "text/plain": [
       "<Figure size 1152x360 with 2 Axes>"
      ]
     },
     "metadata": {
      "needs_background": "light"
     },
     "output_type": "display_data"
    }
   ],
   "source": [
    "import matplotlib.pyplot as plt\n",
    "import seaborn as sns\n",
    "\n",
    "%matplotlib inline\n",
    "\n",
    "fig, axes = plt.subplots(1,2,figsize=(16, 5))\n",
    "sns.histplot(slide_num_patch, bins=30, ax=axes[0], kde=True, label='Number of Patches')\n",
    "sns.histplot(slide_num_select, bins=30, ax=axes[1], kde=True, label='Number of Sampled Patches')"
   ]
  },
  {
   "cell_type": "markdown",
   "id": "7581f83f",
   "metadata": {},
   "source": [
    "## Overview from Patient-level\n",
    "\n"
   ]
  },
  {
   "cell_type": "markdown",
   "id": "f9adf95d",
   "metadata": {},
   "source": [
    "### tiles-l1-s256 & feats-l1-s256-mrandom_be-n1000\n",
    "\n",
    "Below gives the summary of it from patient-level.\n",
    "\n",
    "| Statistics  | Count       |\n",
    "| :-----------: | :-----------: |\n",
    "| Patients         | 449       |\n",
    "| Slides         | 1225       |\n",
    "| Avg. Slides per Patient  | 2.728       |\n",
    "| Patches        | 3599783        |\n",
    "| Selected Tiles | 1145836        |\n",
    "| Avg. Patches per Patient|8017.334 |\n",
    "| Avg. Tiles per Patient| 2551.973 |"
   ]
  },
  {
   "cell_type": "code",
   "execution_count": 9,
   "id": "e5ad21db",
   "metadata": {},
   "outputs": [
    {
     "name": "stdout",
     "output_type": "stream",
     "text": [
      "From patient-level\n",
      "\t#Patients: 449\n",
      "\t#Slides  : 1225\n",
      "\t#Patches : 3599783\n",
      "\t#Tiles   : 1145836\n",
      "Avg. Slides/Patient : 2.728 \n",
      "Avg. Patches/Patient: 8017.334\n",
      "Avg. Tiles/Patient  : 2551.973\n"
     ]
    }
   ],
   "source": [
    "pids = set(patient_ids)\n",
    "\n",
    "num_slides = []\n",
    "num_patches = []\n",
    "num_tiles = []\n",
    "for p in pids:\n",
    "    idxs = [i for i in range(len(patient_ids)) if patient_ids[i] == p]\n",
    "    num_slides.append(len(idxs))\n",
    "    num_patches.append(sum([slide_num_patch[_] for _ in idxs]))\n",
    "    num_tiles.append(sum([slide_num_select[_] for _ in idxs]))\n",
    "\n",
    "print(\"From patient-level\")\n",
    "print(\"\\t#Patients:\", len(pids))\n",
    "print(\"\\t#Slides  :\", sum(num_slides))\n",
    "print(\"\\t#Patches :\", sum(num_patches))\n",
    "print(\"\\t#Tiles   :\", sum(num_tiles))\n",
    "\n",
    "print(\"Avg. Slides/Patient : %.3f \" % (sum(num_slides) / len(pids)))\n",
    "print(\"Avg. Patches/Patient: %.3f\" % (sum(num_patches) / len(pids)))\n",
    "print(\"Avg. Tiles/Patient  : %.3f\" % (sum(num_tiles) / len(pids)))"
   ]
  },
  {
   "cell_type": "code",
   "execution_count": 10,
   "id": "dbeb9336",
   "metadata": {},
   "outputs": [
    {
     "name": "stdout",
     "output_type": "stream",
     "text": [
      "From patient-level:\n",
      "Number of selected tiles < 1000\n",
      "\tRatio = 7.80%, #Count = 35\n",
      "Number of selected tiles = 1000\n",
      "\tRatio = 92.20%, #Count = 414\n"
     ]
    }
   ],
   "source": [
    "num_select_less_than_N = [i for i in num_tiles if i < N]\n",
    "num_select_equal_N = [i for i in num_tiles if i >= N]\n",
    "\n",
    "print(\"From patient-level:\")\n",
    "print(\"Number of selected tiles < %d\" % N)\n",
    "print(\"\\tRatio = %.2f%%, #Count = %d\" % (100.0*len(num_select_less_than_N)/len(pids), len(num_select_less_than_N)))\n",
    "\n",
    "print(\"Number of selected tiles = %d\" % N)\n",
    "print(\"\\tRatio = %.2f%%, #Count = %d\" % (100.0*len(num_select_equal_N)/len(pids), len(num_select_equal_N)))"
   ]
  },
  {
   "cell_type": "markdown",
   "id": "fefcaf69",
   "metadata": {},
   "source": [
    "### Plotting the distribution of the number of patches and tiles"
   ]
  },
  {
   "cell_type": "code",
   "execution_count": 12,
   "id": "9a14dfbc",
   "metadata": {},
   "outputs": [
    {
     "data": {
      "text/plain": [
       "<AxesSubplot:ylabel='Count'>"
      ]
     },
     "execution_count": 12,
     "metadata": {},
     "output_type": "execute_result"
    },
    {
     "data": {
      "image/png": "[encoded data removed]",
      "text/plain": [
       "<Figure size 1440x360 with 3 Axes>"
      ]
     },
     "metadata": {
      "needs_background": "light"
     },
     "output_type": "display_data"
    }
   ],
   "source": [
    "fig, axes = plt.subplots(1,3,figsize=(20, 5))\n",
    "sns.histplot(num_slides, ax=axes[0], kde=True, label='Number of Slides')\n",
    "sns.histplot(num_patches, bins=30, ax=axes[1], kde=True, label='Number of Patches')\n",
    "sns.histplot(num_tiles, bins=30, ax=axes[2], kde=True, label='Number of Sampled Patches')"
   ]
  }
 ],
 "metadata": {
  "kernelspec": {
   "display_name": "Python 3",
   "language": "python",
   "name": "python3"
  },
  "language_info": {
   "codemirror_mode": {
    "name": "ipython",
    "version": 3
   },
   "file_extension": ".py",
   "mimetype": "text/x-python",
   "name": "python",
   "nbconvert_exporter": "python",
   "pygments_lexer": "ipython3",
   "version": "3.6.8"
  },
  "toc": {
   "base_numbering": 1,
   "nav_menu": {},
   "number_sections": true,
   "sideBar": true,
   "skip_h1_title": false,
   "title_cell": "Table of Contents",
   "title_sidebar": "Contents",
   "toc_cell": false,
   "toc_position": {
    "height": "calc(100% - 180px)",
    "left": "10px",
    "top": "150px",
    "width": "165px"
   },
   "toc_section_display": true,
   "toc_window_display": false
  },
  "varInspector": {
   "cols": {
    "lenName": 16,
    "lenType": 16,
    "lenVar": 40
   },
   "kernels_config": {
    "python": {
     "delete_cmd_postfix": "",
     "delete_cmd_prefix": "del ",
     "library": "var_list.py",
     "varRefreshCmd": "print(var_dic_list())"
    },
    "r": {
     "delete_cmd_postfix": ") ",
     "delete_cmd_prefix": "rm(",
     "library": "var_list.r",
     "varRefreshCmd": "cat(var_dic_list()) "
    }
   },
   "types_to_exclude": [
    "module",
    "function",
    "builtin_function_or_method",
    "instance",
    "_Feature"
   ],
   "window_display": false
  }
 },
 "nbformat": 4,
 "nbformat_minor": 5
}
